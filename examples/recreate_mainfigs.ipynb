{
 "cells": [
  {
   "cell_type": "markdown",
   "id": "be0ebf6f",
   "metadata": {},
   "source": [
    "# recreate_mainfigs.ipynb\n",
    "This placeholder notebook will regenerate manuscript Figures 1–4 when fully populated.\n"
   ]
  }
 ],
 "metadata": {},
 "nbformat": 4,
 "nbformat_minor": 5
}
