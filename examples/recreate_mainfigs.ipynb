{
 "cells": [
  {
   "cell_type": "markdown",
   "id": "6923e87d",
   "metadata": {},
   "source": [
    "# recreate_mainfigs.ipynb\n",
    "This notebook regenerates **all main‑text figures (1 – 4)** for the 360‑DNM manuscript.\n",
    "\n",
    "**Dependencies**: Python ≥ 3.9, Matplotlib ≥ 3.8, NumPy ≥ 1.26, Pandas.\n",
    "\n",
    "Run each cell or select **Kernel ▸ Restart & Run All**. All figures are saved to a `figures/` directory with embedded fonts (SVG & PDF)."
   ]
  },
  {
   "cell_type": "code",
   "execution_count": null,
   "id": "547da314",
   "metadata": {},
   "outputs": [],
   "source": [
    "from pathlib import Path\n",
    "fig_dir = Path('figures')\n",
    "fig_dir.mkdir(exist_ok=True)\n",
    "print('Figures will be saved to', fig_dir.resolve())"
   ]
  },
  {
   "cell_type": "markdown",
   "id": "a4d0f655",
   "metadata": {},
   "source": [
    "## Figure 1 – Minimal hippocampus – AG – FP circuit schematic"
   ]
  },
  {
   "cell_type": "code",
   "execution_count": null,
   "id": "ef96c228",
   "metadata": {},
   "outputs": [],
   "source": [
    "import shutil, pathlib\n",
    "src_svg = pathlib.Path('assets') / 'figure1_circuit.svg'\n",
    "src_pdf = pathlib.Path('assets') / 'figure1_circuit.pdf'\n",
    "dst_svg = pathlib.Path('figures') / 'Figure1_circuit.svg'\n",
    "dst_pdf = pathlib.Path('figures') / 'Figure1_circuit.pdf'\n",
    "dst_svg.parent.mkdir(exist_ok=True)\n",
    "shutil.copy(src_svg, dst_svg)\n",
    "shutil.copy(src_pdf, dst_pdf)\n",
    "print('Copied Figure 1 SVG/PDF into figures folder.')"
   ]
  },
  {
   "cell_type": "markdown",
   "id": "909aaa1a",
   "metadata": {},
   "source": [
    "## Figures 2–4\n",
    "Add the code that regenerates Figures 2 through 4 here, or copy them from existing assets, following the pattern above."
   ]
  }
 ],
 "metadata": {},
 "nbformat": 4,
 "nbformat_minor": 5
}
